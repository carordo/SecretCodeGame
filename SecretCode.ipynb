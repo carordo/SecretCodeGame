{
 "cells": [
  {
   "cell_type": "code",
   "execution_count": 1,
   "metadata": {},
   "outputs": [],
   "source": [
    "import string\n",
    "from collections import defaultdict\n",
    "secretDict = defaultdict(int)\n"
   ]
  },
  {
   "cell_type": "code",
   "execution_count": 2,
   "metadata": {},
   "outputs": [],
   "source": [
    "def secretCode (Letter, CodeNumber=0):\n",
    "    #creates an alphabet 26 characters\n",
    "    codec=string.ascii_lowercase\n",
    "    #provides the location of the codec\n",
    "    \n",
    "    CodecPositon=23\n",
    "    CodePosition2=1\n",
    "    codec.find(Letter)#CodeNumber\n",
    "    #foundLetter=\n",
    "    #len(codec)--(CodeNumber\n",
    "   # print (Letter.islower())\n",
    "    #assert Letter.islower()==True\n",
    "   # print(codec.find(Letter))\n",
    "    #print (len(codec))\n",
    "    #print (CodecPositon)\n",
    "   #assert CodecPositon == 15\n",
    "    secretCode=codec[CodecPositon:]+codec[0:CodecPositon]\n",
    "    secretCode2=secretCode[codec.find(Letter)-1:]+codec[0:codec.find(Letter)-1]\n",
    "    print(secretCode)\n",
    "    print(codec)\n",
    "    print(secretCode2)\n",
    "\n",
    "    secretDict={codec[i]:secretCode2[i] for i in range(len(codec))}\n",
    "    print (secretDict)\n",
    "    return secretDict\n",
    "\n",
    "def translate (aword,secretDict):\n",
    "    output=[]\n",
    "    for i in aword:  #range(len(aword)):\n",
    "        if i.isspace():\n",
    "            output+=\" \"\n",
    "        else:\n",
    "            output+=secretDict[i]\n",
    "            #print(output)\n",
    "    out = ''.join(output)\n",
    "    return out \n"
   ]
  },
  {
   "cell_type": "code",
   "execution_count": null,
   "metadata": {},
   "outputs": [],
   "source": [
    "#check why it doesnt rotate"
   ]
  },
  {
   "cell_type": "code",
   "execution_count": 3,
   "metadata": {},
   "outputs": [
    {
     "name": "stdout",
     "output_type": "stream",
     "text": [
      "xyzabcdefghijklmnopqrstuvw\n",
      "abcdefghijklmnopqrstuvwxyz\n",
      "xyzabcdefghijklmnopqrstuvw\n",
      "{'a': 'x', 'b': 'y', 'c': 'z', 'd': 'a', 'e': 'b', 'f': 'c', 'g': 'd', 'h': 'e', 'i': 'f', 'j': 'g', 'k': 'h', 'l': 'i', 'm': 'j', 'n': 'k', 'o': 'l', 'p': 'm', 'q': 'n', 'r': 'o', 's': 'p', 't': 'q', 'u': 'r', 'v': 's', 'w': 't', 'x': 'u', 'y': 'v', 'z': 'w'}\n",
      "yxkxkxp exsb mlqxppfrj illh clo qeb zirb fk qeb yxkxkxp\n"
     ]
    }
   ],
   "source": [
    "\n",
    "translation =translate('bananas have potassium look for the clue in the bananas',secretCode(\"b\",3))\n",
    "print (translation)"
   ]
  }
 ],
 "metadata": {
  "kernelspec": {
   "display_name": "Python 3",
   "language": "python",
   "name": "python3"
  },
  "language_info": {
   "codemirror_mode": {
    "name": "ipython",
    "version": 3
   },
   "file_extension": ".py",
   "mimetype": "text/x-python",
   "name": "python",
   "nbconvert_exporter": "python",
   "pygments_lexer": "ipython3",
   "version": "3.7.3"
  }
 },
 "nbformat": 4,
 "nbformat_minor": 2
}
